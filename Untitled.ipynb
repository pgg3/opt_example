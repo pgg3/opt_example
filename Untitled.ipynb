{
 "cells": [
  {
   "cell_type": "markdown",
   "id": "930f7d8a",
   "metadata": {},
   "source": [
    "# Examples for Applying Newton Method\n",
    "## Question 1\n",
    "$f(x) = \\log (e^x + e^{-x})$ has a unique minimizer $x^*=0$. Run Newton's  method with fixed step size $t=1$, starting at $x^{(0)}=1$ and $x^{(0)} = 1.1$."
   ]
  },
  {
   "cell_type": "code",
   "execution_count": 2,
   "id": "ba69bf52",
   "metadata": {
    "ExecuteTime": {
     "end_time": "2024-03-21T14:35:28.200717Z",
     "start_time": "2024-03-21T14:35:28.192654Z"
    }
   },
   "outputs": [],
   "source": [
    "# Load necessary libraries and set the format of the output picture\n",
    "import autograd.numpy as np\n",
    "%matplotlib inline\n",
    "%config InlineBackend.figure_format = 'svg'\n",
    "import matplotlib.pyplot as plt\n",
    "from mpl_toolkits.axes_grid1.inset_locator import mark_inset\n",
    "from mpl_toolkits.axes_grid1.inset_locator import inset_axes\n",
    "from autograd import elementwise_grad\n",
    "\n",
    "def log_func(x):\n",
    "    y = np.log(\n",
    "        np.exp(x) + np.exp(-x)\n",
    "    )\n",
    "    return y\n",
    "\n",
    "def log_grad(x):\n",
    "    grad = elementwise_grad(log_func)\n",
    "    return grad(x)\n",
    "\n",
    "def log_grad_grad(x):\n",
    "    grad = elementwise_grad(log_grad)\n",
    "    return grad(x)\n",
    "\n",
    "def newton_method(x0, t, max_iter):\n",
    "    x_list = []\n",
    "    x_list.append(x0)\n",
    "    x = x0\n",
    "    for i in range(max_iter):\n",
    "        x = x - t * log_grad(x) / log_grad_grad(x)\n",
    "        x_list.append(x)\n",
    "    return x_list"
   ]
  },
  {
   "cell_type": "code",
   "execution_count": 33,
   "id": "0025e62d",
   "metadata": {
    "ExecuteTime": {
     "end_time": "2024-03-21T14:47:41.484995Z",
     "start_time": "2024-03-21T14:47:41.424508Z"
    }
   },
   "outputs": [
    {
     "data": {
      "text/plain": "<Figure size 700x500 with 1 Axes>",
      "image/svg+xml": "<?xml version=\"1.0\" encoding=\"utf-8\" standalone=\"no\"?>\n<!DOCTYPE svg PUBLIC \"-//W3C//DTD SVG 1.1//EN\"\n  \"http://www.w3.org/Graphics/SVG/1.1/DTD/svg11.dtd\">\n<svg xmlns:xlink=\"http://www.w3.org/1999/xlink\" width=\"432.040625pt\" height=\"321.95625pt\" viewBox=\"0 0 432.040625 321.95625\" xmlns=\"http://www.w3.org/2000/svg\" version=\"1.1\">\n <metadata>\n  <rdf:RDF xmlns:dc=\"http://purl.org/dc/elements/1.1/\" xmlns:cc=\"http://creativecommons.org/ns#\" xmlns:rdf=\"http://www.w3.org/1999/02/22-rdf-syntax-ns#\">\n   <cc:Work>\n    <dc:type rdf:resource=\"http://purl.org/dc/dcmitype/StillImage\"/>\n    <dc:date>2024-03-21T22:47:41.469524</dc:date>\n    <dc:format>image/svg+xml</dc:format>\n    <dc:creator>\n     <cc:Agent>\n      <dc:title>Matplotlib v3.8.0, https://matplotlib.org/</dc:title>\n     </cc:Agent>\n    </dc:creator>\n   </cc:Work>\n  </rdf:RDF>\n </metadata>\n <defs>\n  <style type=\"text/css\">*{stroke-linejoin: round; stroke-linecap: butt}</style>\n </defs>\n <g id=\"figure_1\">\n  <g id=\"patch_1\">\n   <path d=\"M 0 321.95625 \nL 432.040625 321.95625 \nL 432.040625 0 \nL 0 0 \nz\n\" style=\"fill: #ffffff\"/>\n  </g>\n  <g id=\"axes_1\">\n   <g id=\"patch_2\">\n    <path d=\"M 34.240625 284.4 \nL 424.840625 284.4 \nL 424.840625 7.2 \nL 34.240625 7.2 \nz\n\" style=\"fill: #ffffff\"/>\n   </g>\n   <g id=\"line2d_1\">\n    <path d=\"M 51.99517 207.87484 \nL 64.438907 220.498309 \nL 74.216128 230.109508 \nL 82.215673 237.66958 \nL 88.881961 243.681562 \nL 94.65941 248.617762 \nL 99.99244 252.89463 \nL 104.881051 256.532726 \nL 109.325242 259.566856 \nL 113.325015 262.044682 \nL 117.324787 264.255491 \nL 120.88014 265.975403 \nL 124.435494 267.446329 \nL 127.990847 268.652356 \nL 131.101781 269.479414 \nL 134.212715 270.08548 \nL 137.323649 270.464839 \nL 140.434583 270.613836 \nL 143.545517 270.531021 \nL 146.656452 270.217202 \nL 149.767386 269.675413 \nL 152.87832 268.910799 \nL 155.989254 267.930426 \nL 159.544607 266.557072 \nL 163.099961 264.928556 \nL 166.655314 263.061797 \nL 170.655086 260.699381 \nL 174.654859 258.084658 \nL 179.09905 254.91548 \nL 183.987661 251.148669 \nL 189.320691 246.753264 \nL 195.542559 241.313272 \nL 202.208847 235.186472 \nL 210.208392 227.523022 \nL 219.985613 217.823847 \nL 231.98493 205.588364 \nL 247.98402 188.93956 \nL 272.427074 163.149496 \nL 320.868762 111.648561 \nL 407.08608 19.8 \nL 407.08608 19.8 \n\" clip-path=\"url(#p88b4f9298c)\" style=\"fill: none; stroke: #1f77b4; stroke-width: 1.5; stroke-linecap: square\"/>\n   </g>\n   <g id=\"PathCollection_1\">\n    <defs>\n     <path id=\"mb0c5eed016\" d=\"M -3 3 \nL 3 -3 \nM -3 -3 \nL 3 3 \n\" style=\"stroke: #ff0000; stroke-width: 1.5\"/>\n    </defs>\n    <g clip-path=\"url(#p88b4f9298c)\">\n     <use xlink:href=\"#mb0c5eed016\" x=\"185.320919\" y=\"250.075868\" style=\"fill: #ff0000; stroke: #ff0000; stroke-width: 1.5\"/>\n     <use xlink:href=\"#mb0c5eed016\" x=\"104.728606\" y=\"256.423813\" style=\"fill: #ff0000; stroke: #ff0000; stroke-width: 1.5\"/>\n     <use xlink:href=\"#mb0c5eed016\" x=\"159.073626\" y=\"266.754013\" style=\"fill: #ff0000; stroke: #ff0000; stroke-width: 1.5\"/>\n     <use xlink:href=\"#mb0c5eed016\" x=\"138.776681\" y=\"270.563242\" style=\"fill: #ff0000; stroke: #ff0000; stroke-width: 1.5\"/>\n     <use xlink:href=\"#mb0c5eed016\" x=\"140.88214\" y=\"270.616203\" style=\"fill: #ff0000; stroke: #ff0000; stroke-width: 1.5\"/>\n     <use xlink:href=\"#mb0c5eed016\" x=\"140.879003\" y=\"270.616203\" style=\"fill: #ff0000; stroke: #ff0000; stroke-width: 1.5\"/>\n    </g>\n   </g>\n   <g id=\"patch_3\">\n    <path d=\"M 102.512557 256.598363 \nL 104.646694 255.243238 \nL 104.726967 256.400201 \nL 185.31928 250.052256 \nL 185.322557 250.09948 \nL 104.730244 256.447424 \nL 104.810517 257.604388 \nz\n\" clip-path=\"url(#p88b4f9298c)\" style=\"fill: #ff0000; stroke: #ff0000; stroke-linejoin: miter\"/>\n   </g>\n   <g id=\"patch_4\">\n    <path d=\"M 161.261182 267.169836 \nL 158.878492 267.919409 \nL 159.069723 266.777321 \nL 104.724703 256.447121 \nL 104.732508 256.400505 \nL 159.077529 266.730705 \nL 159.26876 265.588617 \nz\n\" clip-path=\"url(#p88b4f9298c)\" style=\"fill: #ff0000; stroke: #ff0000; stroke-linejoin: miter\"/>\n   </g>\n   <g id=\"patch_5\">\n    <path d=\"M 136.588275 270.973951 \nL 138.583947 269.397393 \nL 138.772827 270.539925 \nL 159.069771 266.730696 \nL 159.077481 266.77733 \nL 138.780536 270.586559 \nL 138.969416 271.729091 \nz\n\" clip-path=\"url(#p88b4f9298c)\" style=\"fill: #ff0000; stroke: #ff0000; stroke-linejoin: miter\"/>\n   </g>\n   <g id=\"patch_6\">\n    <path d=\"M 143.103617 270.672082 \nL 140.855918 271.79967 \nL 140.881616 270.639872 \nL 138.776157 270.586911 \nL 138.777206 270.539573 \nL 140.882665 270.592534 \nL 140.908363 269.432736 \nz\n\" clip-path=\"url(#p88b4f9298c)\" style=\"fill: #ff0000; stroke: #ff0000; stroke-linejoin: miter\"/>\n   </g>\n   <g id=\"patch_7\">\n    <path d=\"M 138.656907 270.616287 \nL 140.878963 269.432406 \nL 140.879002 270.592527 \nL 140.882139 270.592527 \nL 140.882141 270.639879 \nL 140.879003 270.639879 \nL 140.879042 271.8 \nz\n\" clip-path=\"url(#p88b4f9298c)\" style=\"fill: #ff0000; stroke: #ff0000; stroke-linejoin: miter\"/>\n   </g>\n   <g id=\"PathCollection_2\">\n    <defs>\n     <path id=\"m0a647a79dd\" d=\"M 0 3 \nC 0.795609 3 1.55874 2.683901 2.12132 2.12132 \nC 2.683901 1.55874 3 0.795609 3 0 \nC 3 -0.795609 2.683901 -1.55874 2.12132 -2.12132 \nC 1.55874 -2.683901 0.795609 -3 0 -3 \nC -0.795609 -3 -1.55874 -2.683901 -2.12132 -2.12132 \nC -2.683901 -1.55874 -3 -0.795609 -3 0 \nC -3 0.795609 -2.683901 1.55874 -2.12132 2.12132 \nC -1.55874 2.683901 -0.795609 3 0 3 \nz\n\" style=\"stroke: #0000ff\"/>\n    </defs>\n    <g clip-path=\"url(#p88b4f9298c)\">\n     <use xlink:href=\"#m0a647a79dd\" x=\"189.76511\" y=\"246.375068\" style=\"fill: #0000ff; stroke: #0000ff\"/>\n     <use xlink:href=\"#m0a647a79dd\" x=\"90.723963\" y=\"245.28595\" style=\"fill: #0000ff; stroke: #0000ff\"/>\n     <use xlink:href=\"#m0a647a79dd\" x=\"195.726155\" y=\"241.148333\" style=\"fill: #0000ff; stroke: #0000ff\"/>\n     <use xlink:href=\"#m0a647a79dd\" x=\"65.542578\" y=\"221.599392\" style=\"fill: #0000ff; stroke: #0000ff\"/>\n     <use xlink:href=\"#m0a647a79dd\" x=\"394.880556\" y=\"32.804497\" style=\"fill: #0000ff; stroke: #0000ff\"/>\n    </g>\n   </g>\n   <g id=\"matplotlib.axis_1\">\n    <g id=\"xtick_1\">\n     <g id=\"line2d_2\">\n      <defs>\n       <path id=\"mc67361d42f\" d=\"M 0 0 \nL 0 3.5 \n\" style=\"stroke: #000000; stroke-width: 0.8\"/>\n      </defs>\n      <g>\n       <use xlink:href=\"#mc67361d42f\" x=\"51.99517\" y=\"284.4\" style=\"stroke: #000000; stroke-width: 0.8\"/>\n      </g>\n     </g>\n     <g id=\"text_1\">\n      <!-- −2 -->\n      <g transform=\"translate(44.624077 298.998438) scale(0.1 -0.1)\">\n       <defs>\n        <path id=\"DejaVuSans-2212\" d=\"M 678 2272 \nL 4684 2272 \nL 4684 1741 \nL 678 1741 \nL 678 2272 \nz\n\" transform=\"scale(0.015625)\"/>\n        <path id=\"DejaVuSans-32\" d=\"M 1228 531 \nL 3431 531 \nL 3431 0 \nL 469 0 \nL 469 531 \nQ 828 903 1448 1529 \nQ 2069 2156 2228 2338 \nQ 2531 2678 2651 2914 \nQ 2772 3150 2772 3378 \nQ 2772 3750 2511 3984 \nQ 2250 4219 1831 4219 \nQ 1534 4219 1204 4116 \nQ 875 4013 500 3803 \nL 500 4441 \nQ 881 4594 1212 4672 \nQ 1544 4750 1819 4750 \nQ 2544 4750 2975 4387 \nQ 3406 4025 3406 3419 \nQ 3406 3131 3298 2873 \nQ 3191 2616 2906 2266 \nQ 2828 2175 2409 1742 \nQ 1991 1309 1228 531 \nz\n\" transform=\"scale(0.015625)\"/>\n       </defs>\n       <use xlink:href=\"#DejaVuSans-2212\"/>\n       <use xlink:href=\"#DejaVuSans-32\" x=\"83.789062\"/>\n      </g>\n     </g>\n    </g>\n    <g id=\"xtick_2\">\n     <g id=\"line2d_3\">\n      <g>\n       <use xlink:href=\"#mc67361d42f\" x=\"96.437086\" y=\"284.4\" style=\"stroke: #000000; stroke-width: 0.8\"/>\n      </g>\n     </g>\n     <g id=\"text_2\">\n      <!-- −1 -->\n      <g transform=\"translate(89.065993 298.998438) scale(0.1 -0.1)\">\n       <defs>\n        <path id=\"DejaVuSans-31\" d=\"M 794 531 \nL 1825 531 \nL 1825 4091 \nL 703 3866 \nL 703 4441 \nL 1819 4666 \nL 2450 4666 \nL 2450 531 \nL 3481 531 \nL 3481 0 \nL 794 0 \nL 794 531 \nz\n\" transform=\"scale(0.015625)\"/>\n       </defs>\n       <use xlink:href=\"#DejaVuSans-2212\"/>\n       <use xlink:href=\"#DejaVuSans-31\" x=\"83.789062\"/>\n      </g>\n     </g>\n    </g>\n    <g id=\"xtick_3\">\n     <g id=\"line2d_4\">\n      <g>\n       <use xlink:href=\"#mc67361d42f\" x=\"140.879003\" y=\"284.4\" style=\"stroke: #000000; stroke-width: 0.8\"/>\n      </g>\n     </g>\n     <g id=\"text_3\">\n      <!-- 0 -->\n      <g transform=\"translate(137.697753 298.998438) scale(0.1 -0.1)\">\n       <defs>\n        <path id=\"DejaVuSans-30\" d=\"M 2034 4250 \nQ 1547 4250 1301 3770 \nQ 1056 3291 1056 2328 \nQ 1056 1369 1301 889 \nQ 1547 409 2034 409 \nQ 2525 409 2770 889 \nQ 3016 1369 3016 2328 \nQ 3016 3291 2770 3770 \nQ 2525 4250 2034 4250 \nz\nM 2034 4750 \nQ 2819 4750 3233 4129 \nQ 3647 3509 3647 2328 \nQ 3647 1150 3233 529 \nQ 2819 -91 2034 -91 \nQ 1250 -91 836 529 \nQ 422 1150 422 2328 \nQ 422 3509 836 4129 \nQ 1250 4750 2034 4750 \nz\n\" transform=\"scale(0.015625)\"/>\n       </defs>\n       <use xlink:href=\"#DejaVuSans-30\"/>\n      </g>\n     </g>\n    </g>\n    <g id=\"xtick_4\">\n     <g id=\"line2d_5\">\n      <g>\n       <use xlink:href=\"#mc67361d42f\" x=\"185.320919\" y=\"284.4\" style=\"stroke: #000000; stroke-width: 0.8\"/>\n      </g>\n     </g>\n     <g id=\"text_4\">\n      <!-- 1 -->\n      <g transform=\"translate(182.139669 298.998438) scale(0.1 -0.1)\">\n       <use xlink:href=\"#DejaVuSans-31\"/>\n      </g>\n     </g>\n    </g>\n    <g id=\"xtick_5\">\n     <g id=\"line2d_6\">\n      <g>\n       <use xlink:href=\"#mc67361d42f\" x=\"229.762835\" y=\"284.4\" style=\"stroke: #000000; stroke-width: 0.8\"/>\n      </g>\n     </g>\n     <g id=\"text_5\">\n      <!-- 2 -->\n      <g transform=\"translate(226.581585 298.998438) scale(0.1 -0.1)\">\n       <use xlink:href=\"#DejaVuSans-32\"/>\n      </g>\n     </g>\n    </g>\n    <g id=\"xtick_6\">\n     <g id=\"line2d_7\">\n      <g>\n       <use xlink:href=\"#mc67361d42f\" x=\"274.204751\" y=\"284.4\" style=\"stroke: #000000; stroke-width: 0.8\"/>\n      </g>\n     </g>\n     <g id=\"text_6\">\n      <!-- 3 -->\n      <g transform=\"translate(271.023501 298.998438) scale(0.1 -0.1)\">\n       <defs>\n        <path id=\"DejaVuSans-33\" d=\"M 2597 2516 \nQ 3050 2419 3304 2112 \nQ 3559 1806 3559 1356 \nQ 3559 666 3084 287 \nQ 2609 -91 1734 -91 \nQ 1441 -91 1130 -33 \nQ 819 25 488 141 \nL 488 750 \nQ 750 597 1062 519 \nQ 1375 441 1716 441 \nQ 2309 441 2620 675 \nQ 2931 909 2931 1356 \nQ 2931 1769 2642 2001 \nQ 2353 2234 1838 2234 \nL 1294 2234 \nL 1294 2753 \nL 1863 2753 \nQ 2328 2753 2575 2939 \nQ 2822 3125 2822 3475 \nQ 2822 3834 2567 4026 \nQ 2313 4219 1838 4219 \nQ 1578 4219 1281 4162 \nQ 984 4106 628 3988 \nL 628 4550 \nQ 988 4650 1302 4700 \nQ 1616 4750 1894 4750 \nQ 2613 4750 3031 4423 \nQ 3450 4097 3450 3541 \nQ 3450 3153 3228 2886 \nQ 3006 2619 2597 2516 \nz\n\" transform=\"scale(0.015625)\"/>\n       </defs>\n       <use xlink:href=\"#DejaVuSans-33\"/>\n      </g>\n     </g>\n    </g>\n    <g id=\"xtick_7\">\n     <g id=\"line2d_8\">\n      <g>\n       <use xlink:href=\"#mc67361d42f\" x=\"318.646667\" y=\"284.4\" style=\"stroke: #000000; stroke-width: 0.8\"/>\n      </g>\n     </g>\n     <g id=\"text_7\">\n      <!-- 4 -->\n      <g transform=\"translate(315.465417 298.998438) scale(0.1 -0.1)\">\n       <defs>\n        <path id=\"DejaVuSans-34\" d=\"M 2419 4116 \nL 825 1625 \nL 2419 1625 \nL 2419 4116 \nz\nM 2253 4666 \nL 3047 4666 \nL 3047 1625 \nL 3713 1625 \nL 3713 1100 \nL 3047 1100 \nL 3047 0 \nL 2419 0 \nL 2419 1100 \nL 313 1100 \nL 313 1709 \nL 2253 4666 \nz\n\" transform=\"scale(0.015625)\"/>\n       </defs>\n       <use xlink:href=\"#DejaVuSans-34\"/>\n      </g>\n     </g>\n    </g>\n    <g id=\"xtick_8\">\n     <g id=\"line2d_9\">\n      <g>\n       <use xlink:href=\"#mc67361d42f\" x=\"363.088583\" y=\"284.4\" style=\"stroke: #000000; stroke-width: 0.8\"/>\n      </g>\n     </g>\n     <g id=\"text_8\">\n      <!-- 5 -->\n      <g transform=\"translate(359.907333 298.998438) scale(0.1 -0.1)\">\n       <defs>\n        <path id=\"DejaVuSans-35\" d=\"M 691 4666 \nL 3169 4666 \nL 3169 4134 \nL 1269 4134 \nL 1269 2991 \nQ 1406 3038 1543 3061 \nQ 1681 3084 1819 3084 \nQ 2600 3084 3056 2656 \nQ 3513 2228 3513 1497 \nQ 3513 744 3044 326 \nQ 2575 -91 1722 -91 \nQ 1428 -91 1123 -41 \nQ 819 9 494 109 \nL 494 744 \nQ 775 591 1075 516 \nQ 1375 441 1709 441 \nQ 2250 441 2565 725 \nQ 2881 1009 2881 1497 \nQ 2881 1984 2565 2268 \nQ 2250 2553 1709 2553 \nQ 1456 2553 1204 2497 \nQ 953 2441 691 2322 \nL 691 4666 \nz\n\" transform=\"scale(0.015625)\"/>\n       </defs>\n       <use xlink:href=\"#DejaVuSans-35\"/>\n      </g>\n     </g>\n    </g>\n    <g id=\"xtick_9\">\n     <g id=\"line2d_10\">\n      <g>\n       <use xlink:href=\"#mc67361d42f\" x=\"407.530499\" y=\"284.4\" style=\"stroke: #000000; stroke-width: 0.8\"/>\n      </g>\n     </g>\n     <g id=\"text_9\">\n      <!-- 6 -->\n      <g transform=\"translate(404.349249 298.998438) scale(0.1 -0.1)\">\n       <defs>\n        <path id=\"DejaVuSans-36\" d=\"M 2113 2584 \nQ 1688 2584 1439 2293 \nQ 1191 2003 1191 1497 \nQ 1191 994 1439 701 \nQ 1688 409 2113 409 \nQ 2538 409 2786 701 \nQ 3034 994 3034 1497 \nQ 3034 2003 2786 2293 \nQ 2538 2584 2113 2584 \nz\nM 3366 4563 \nL 3366 3988 \nQ 3128 4100 2886 4159 \nQ 2644 4219 2406 4219 \nQ 1781 4219 1451 3797 \nQ 1122 3375 1075 2522 \nQ 1259 2794 1537 2939 \nQ 1816 3084 2150 3084 \nQ 2853 3084 3261 2657 \nQ 3669 2231 3669 1497 \nQ 3669 778 3244 343 \nQ 2819 -91 2113 -91 \nQ 1303 -91 875 529 \nQ 447 1150 447 2328 \nQ 447 3434 972 4092 \nQ 1497 4750 2381 4750 \nQ 2619 4750 2861 4703 \nQ 3103 4656 3366 4563 \nz\n\" transform=\"scale(0.015625)\"/>\n       </defs>\n       <use xlink:href=\"#DejaVuSans-36\"/>\n      </g>\n     </g>\n    </g>\n    <g id=\"text_10\">\n     <!-- x -->\n     <g transform=\"translate(226.58125 312.676562) scale(0.1 -0.1)\">\n      <defs>\n       <path id=\"DejaVuSans-78\" d=\"M 3513 3500 \nL 2247 1797 \nL 3578 0 \nL 2900 0 \nL 1881 1375 \nL 863 0 \nL 184 0 \nL 1544 1831 \nL 300 3500 \nL 978 3500 \nL 1906 2253 \nL 2834 3500 \nL 3513 3500 \nz\n\" transform=\"scale(0.015625)\"/>\n      </defs>\n      <use xlink:href=\"#DejaVuSans-78\"/>\n     </g>\n    </g>\n   </g>\n   <g id=\"matplotlib.axis_2\">\n    <g id=\"ytick_1\">\n     <g id=\"line2d_11\">\n      <defs>\n       <path id=\"m4afb55a26c\" d=\"M 0 0 \nL -3.5 0 \n\" style=\"stroke: #000000; stroke-width: 0.8\"/>\n      </defs>\n      <g>\n       <use xlink:href=\"#m4afb55a26c\" x=\"34.240625\" y=\"256.086147\" style=\"stroke: #000000; stroke-width: 0.8\"/>\n      </g>\n     </g>\n     <g id=\"text_11\">\n      <!-- 1 -->\n      <g transform=\"translate(20.878125 259.885366) scale(0.1 -0.1)\">\n       <use xlink:href=\"#DejaVuSans-31\"/>\n      </g>\n     </g>\n    </g>\n    <g id=\"ytick_2\">\n     <g id=\"line2d_12\">\n      <g>\n       <use xlink:href=\"#m4afb55a26c\" x=\"34.240625\" y=\"208.734273\" style=\"stroke: #000000; stroke-width: 0.8\"/>\n      </g>\n     </g>\n     <g id=\"text_12\">\n      <!-- 2 -->\n      <g transform=\"translate(20.878125 212.533492) scale(0.1 -0.1)\">\n       <use xlink:href=\"#DejaVuSans-32\"/>\n      </g>\n     </g>\n    </g>\n    <g id=\"ytick_3\">\n     <g id=\"line2d_13\">\n      <g>\n       <use xlink:href=\"#m4afb55a26c\" x=\"34.240625\" y=\"161.3824\" style=\"stroke: #000000; stroke-width: 0.8\"/>\n      </g>\n     </g>\n     <g id=\"text_13\">\n      <!-- 3 -->\n      <g transform=\"translate(20.878125 165.181618) scale(0.1 -0.1)\">\n       <use xlink:href=\"#DejaVuSans-33\"/>\n      </g>\n     </g>\n    </g>\n    <g id=\"ytick_4\">\n     <g id=\"line2d_14\">\n      <g>\n       <use xlink:href=\"#m4afb55a26c\" x=\"34.240625\" y=\"114.030526\" style=\"stroke: #000000; stroke-width: 0.8\"/>\n      </g>\n     </g>\n     <g id=\"text_14\">\n      <!-- 4 -->\n      <g transform=\"translate(20.878125 117.829744) scale(0.1 -0.1)\">\n       <use xlink:href=\"#DejaVuSans-34\"/>\n      </g>\n     </g>\n    </g>\n    <g id=\"ytick_5\">\n     <g id=\"line2d_15\">\n      <g>\n       <use xlink:href=\"#m4afb55a26c\" x=\"34.240625\" y=\"66.678652\" style=\"stroke: #000000; stroke-width: 0.8\"/>\n      </g>\n     </g>\n     <g id=\"text_15\">\n      <!-- 5 -->\n      <g transform=\"translate(20.878125 70.477871) scale(0.1 -0.1)\">\n       <use xlink:href=\"#DejaVuSans-35\"/>\n      </g>\n     </g>\n    </g>\n    <g id=\"ytick_6\">\n     <g id=\"line2d_16\">\n      <g>\n       <use xlink:href=\"#m4afb55a26c\" x=\"34.240625\" y=\"19.326778\" style=\"stroke: #000000; stroke-width: 0.8\"/>\n      </g>\n     </g>\n     <g id=\"text_16\">\n      <!-- 6 -->\n      <g transform=\"translate(20.878125 23.125997) scale(0.1 -0.1)\">\n       <use xlink:href=\"#DejaVuSans-36\"/>\n      </g>\n     </g>\n    </g>\n    <g id=\"text_17\">\n     <!-- f(x) -->\n     <g transform=\"translate(14.798437 154.421094) rotate(-90) scale(0.1 -0.1)\">\n      <defs>\n       <path id=\"DejaVuSans-66\" d=\"M 2375 4863 \nL 2375 4384 \nL 1825 4384 \nQ 1516 4384 1395 4259 \nQ 1275 4134 1275 3809 \nL 1275 3500 \nL 2222 3500 \nL 2222 3053 \nL 1275 3053 \nL 1275 0 \nL 697 0 \nL 697 3053 \nL 147 3053 \nL 147 3500 \nL 697 3500 \nL 697 3744 \nQ 697 4328 969 4595 \nQ 1241 4863 1831 4863 \nL 2375 4863 \nz\n\" transform=\"scale(0.015625)\"/>\n       <path id=\"DejaVuSans-28\" d=\"M 1984 4856 \nQ 1566 4138 1362 3434 \nQ 1159 2731 1159 2009 \nQ 1159 1288 1364 580 \nQ 1569 -128 1984 -844 \nL 1484 -844 \nQ 1016 -109 783 600 \nQ 550 1309 550 2009 \nQ 550 2706 781 3412 \nQ 1013 4119 1484 4856 \nL 1984 4856 \nz\n\" transform=\"scale(0.015625)\"/>\n       <path id=\"DejaVuSans-29\" d=\"M 513 4856 \nL 1013 4856 \nQ 1481 4119 1714 3412 \nQ 1947 2706 1947 2009 \nQ 1947 1309 1714 600 \nQ 1481 -109 1013 -844 \nL 513 -844 \nQ 928 -128 1133 580 \nQ 1338 1288 1338 2009 \nQ 1338 2731 1133 3434 \nQ 928 4138 513 4856 \nz\n\" transform=\"scale(0.015625)\"/>\n      </defs>\n      <use xlink:href=\"#DejaVuSans-66\"/>\n      <use xlink:href=\"#DejaVuSans-28\" x=\"35.205078\"/>\n      <use xlink:href=\"#DejaVuSans-78\" x=\"74.21875\"/>\n      <use xlink:href=\"#DejaVuSans-29\" x=\"133.398438\"/>\n     </g>\n    </g>\n   </g>\n   <g id=\"patch_8\">\n    <path d=\"M 34.240625 284.4 \nL 34.240625 7.2 \n\" style=\"fill: none; stroke: #000000; stroke-width: 0.8; stroke-linejoin: miter; stroke-linecap: square\"/>\n   </g>\n   <g id=\"patch_9\">\n    <path d=\"M 424.840625 284.4 \nL 424.840625 7.2 \n\" style=\"fill: none; stroke: #000000; stroke-width: 0.8; stroke-linejoin: miter; stroke-linecap: square\"/>\n   </g>\n   <g id=\"patch_10\">\n    <path d=\"M 34.240625 284.4 \nL 424.840625 284.4 \n\" style=\"fill: none; stroke: #000000; stroke-width: 0.8; stroke-linejoin: miter; stroke-linecap: square\"/>\n   </g>\n   <g id=\"patch_11\">\n    <path d=\"M 34.240625 7.2 \nL 424.840625 7.2 \n\" style=\"fill: none; stroke: #000000; stroke-width: 0.8; stroke-linejoin: miter; stroke-linecap: square\"/>\n   </g>\n  </g>\n </g>\n <defs>\n  <clipPath id=\"p88b4f9298c\">\n   <rect x=\"34.240625\" y=\"7.2\" width=\"390.6\" height=\"277.2\"/>\n  </clipPath>\n </defs>\n</svg>\n"
     },
     "metadata": {},
     "output_type": "display_data"
    }
   ],
   "source": [
    "x = np.arange(-2, 6, 0.01)\n",
    "y = log_func(x)\n",
    "x0 = 1.0\n",
    "t = 1.0\n",
    "max_iter = 5\n",
    "x0_list = newton_method(x0, t, max_iter)\n",
    "f0_list = log_func(np.array(x0_list))\n",
    "\n",
    "x1 = 1.1\n",
    "x1_list = newton_method(x1, t, max_iter)\n",
    "f1_list = log_func(np.array(x1_list))\n",
    "\n",
    "\n",
    "fig, ax = plt.subplots(1, 1, figsize=(7, 5))\n",
    "ax.set_xlabel('x')\n",
    "ax.set_ylabel('f(x)')\n",
    "ax.set_xticks(np.arange(-2, 7, 1))\n",
    "ax.plot(x, y, zorder=1)\n",
    "\n",
    "ax.scatter(x0_list, f0_list, color='red', marker='x')\n",
    "# plot the trajectory of the optimization path\n",
    "for i in range(max_iter):\n",
    "    ax.arrow(\n",
    "        x0_list[i], f0_list[i], x0_list[i+1] - x0_list[i], f0_list[i+1] - f0_list[i], \n",
    "        head_width=0.05, head_length=0.05, fc='r', ec='r'\n",
    "    )\n",
    "\n",
    "ax.scatter(x1_list, f1_list, color='blue', marker='o')\n",
    "\n",
    "\n",
    "# \n",
    "# axins = inset_axes(ax, width=\"40%\", height=\"30%\", loc='lower left',\n",
    "#                    bbox_to_anchor=(0.1, 0.50, 1.2, 1.5),\n",
    "#                    bbox_transform=ax.transAxes)\n",
    "# axins.plot(x, y)\n",
    "# \n",
    "# axins.scatter(x0_list, f0_list, color='red', marker='x')\n",
    "# # plot the trajectory of the optimization path\n",
    "# for i in range(max_iter):\n",
    "#     axins.arrow(x0_list[i], f0_list[i], x0_list[i+1] - x0_list[i], f0_list[i+1] - f0_list[i], head_width=0.05, head_length=0.05, fc='r', ec='r')\n",
    "# axins.scatter(x1_list, f1_list, color='blue', marker='o')\n",
    "# \n",
    "# \n",
    "# axins.set_xlim(-1., 1.1)\n",
    "# axins.set_ylim(0.692, 1.5)\n",
    "# axins.set_xticks(np.arange(-1., 1.11, 0.5))\n",
    "# axins.set_yticks(np.arange(0.692, 1.5, 0.5))\n",
    "# mark_inset(ax, axins, loc1=3, loc2=1, fc=\"none\", ec='k', lw=1)\n",
    "\n",
    "plt.show()"
   ]
  },
  {
   "cell_type": "code",
   "execution_count": 75,
   "outputs": [
    {
     "data": {
      "text/plain": "[1.0,\n -0.8134302039235088,\n 0.40940231658338533,\n -0.047304916455615575,\n 7.060280364455662e-05,\n -2.344900125851937e-13]"
     },
     "execution_count": 75,
     "metadata": {},
     "output_type": "execute_result"
    }
   ],
   "source": [
    "x0_list"
   ],
   "metadata": {
    "collapsed": false,
    "ExecuteTime": {
     "end_time": "2024-03-21T08:58:14.901556500Z",
     "start_time": "2024-03-21T08:58:14.890975900Z"
    }
   },
   "id": "7511c0c9479524a8"
  }
 ],
 "metadata": {
  "kernelspec": {
   "display_name": "play",
   "language": "python",
   "name": "play"
  },
  "language_info": {
   "codemirror_mode": {
    "name": "ipython",
    "version": 3
   },
   "file_extension": ".py",
   "mimetype": "text/x-python",
   "name": "python",
   "nbconvert_exporter": "python",
   "pygments_lexer": "ipython3",
   "version": "3.8.18"
  }
 },
 "nbformat": 4,
 "nbformat_minor": 5
}
